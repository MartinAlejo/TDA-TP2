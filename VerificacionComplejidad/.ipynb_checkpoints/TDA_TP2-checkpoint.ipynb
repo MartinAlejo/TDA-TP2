{
 "cells": [
  {
   "cell_type": "markdown",
   "metadata": {
    "id": "GULls6pCOeht"
   },
   "source": [
    "### Verificación empírica de la complejidad algorítmica\n",
    "Teoricamente llegamos a que el algoritmo tiene una complejidad de O(n^2).\n",
    "\n",
    "A continuación se intentará verificar esto de manera empírica, generando un volumen de situaciones aleatorias con tamaño incremental, observando si el tiempo de resolución incrementa de forma cuadratica.  "
   ]
  },
  {
   "cell_type": "code",
   "execution_count": 1,
   "metadata": {
    "id": "PFQu6r_BL2YC"
   },
   "outputs": [],
   "source": [
    "# Imports necesarios para el notebook\n",
    "from random import seed\n",
    "\n",
    "from matplotlib import pyplot as plt\n",
    "import seaborn as sns\n",
    "import numpy as np\n",
    "import scipy as sp\n",
    "import sys"
   ]
  },
  {
   "cell_type": "code",
   "execution_count": 2,
   "metadata": {
    "id": "nkRwOpGkA59J"
   },
   "outputs": [],
   "source": [
    "# Funciones de utilidad\n",
    "from concurrent.futures import ProcessPoolExecutor, as_completed\n",
    "import time\n",
    "import os\n",
    "\n",
    "# Este parámetro controla cuantas veces se ejecuta el algoritmo para cada\n",
    "# tamaño. Esto es conveniente para reducir el error estadístico en la medición\n",
    "# de tiempos. Al finalizar las ejecuciones, se promedian los tiempos obtenidos\n",
    "RUNS_PER_SIZE = 10\n",
    "\n",
    "# Ajustar este valor si se quiere usar más de un proceso para medir los tiempos\n",
    "# de ejecución, o None para usar todos los procesadores disponibles. Si se usan\n",
    "# varios procesos, tener cuidado con el uso de memoria del sistema.\n",
    "MAX_WORKERS = 10\n",
    "\n",
    "\n",
    "def _time_run(algorithm, *args):\n",
    "    start = time.time()\n",
    "    algorithm(*args)\n",
    "    return time.time() - start\n",
    "\n",
    "\n",
    "def time_algorithm(algorithm, sizes, get_args):\n",
    "    futures = {}\n",
    "    total_times = {i: 0 for i in sizes}\n",
    "\n",
    "    # Usa un ProcessPoolExecutor para ejecutar las mediciones en paralelo\n",
    "    # (el ThreadPoolExecutor no sirve por el GIL de Python)\n",
    "    with ProcessPoolExecutor(MAX_WORKERS) as p:\n",
    "        for i in sizes:\n",
    "            for _ in range(RUNS_PER_SIZE):\n",
    "                futures[p.submit(_time_run, algorithm, *get_args(i))] = i\n",
    "\n",
    "        for f in as_completed(futures):\n",
    "            result = f.result()\n",
    "            i = futures[f]\n",
    "            total_times[i] += result\n",
    "\n",
    "    return {s: t / RUNS_PER_SIZE for s, t in total_times.items()}"
   ]
  },
  {
   "cell_type": "code",
   "execution_count": 3,
   "metadata": {
    "id": "Iwb5Dc92yN9x"
   },
   "outputs": [],
   "source": [
    "sys.setrecursionlimit(300000)\n",
    "# Dado un arreglo de monedas, devuelve el array excluyendo la moneda que tomo mateo\n",
    "def decision_mateo(arr, inicio = 0, fin = 0):\n",
    "    if arr[inicio] > arr[fin - 1]:\n",
    "        return (inicio + 1, fin)\n",
    "    return (inicio, fin - 1)\n",
    "\n",
    "def _juego_monedas(arr, inicio = 0, fin = 0, memory = {}):\n",
    "    if inicio >= fin:\n",
    "        return 0\n",
    "    \n",
    "    key = (inicio, fin)\n",
    "    if key in memory:\n",
    "        return memory[key]\n",
    "\n",
    "    primer_moneda = arr[inicio]\n",
    "    ultima_moneda = arr[fin-1]\n",
    "    \n",
    "    decision_mateo_1 = decision_mateo(arr, inicio + 1, fin)\n",
    "    decision_mateo_2 = decision_mateo(arr, inicio, fin-1)\n",
    "\n",
    "    ganancia = max(primer_moneda + _juego_monedas(arr,decision_mateo_1[0],decision_mateo_1[1], memory), \n",
    "                   ultima_moneda + _juego_monedas(arr, decision_mateo_2[0], decision_mateo_2[1], memory))\n",
    "    \n",
    "    # guardamos la respuesta en la memoria\n",
    "    memory[key] = ganancia\n",
    "\n",
    "    return ganancia\n",
    "\n",
    "# Dado un arreglo de monedas, devuelve la ganancia maxima de Sofia y la memoria de las llamadas recursivas.\n",
    "def juego_monedas(arr):\n",
    "    memory = {}\n",
    "    return _juego_monedas(arr, 0, len(arr), memory), memory\n"
   ]
  },
  {
   "cell_type": "code",
   "execution_count": 4,
   "metadata": {
    "id": "dy5lE9CRiJDu",
    "scrolled": true
   },
   "outputs": [
    {
     "ename": "IndexError",
     "evalue": "index 1 is out of bounds for axis 0 with size 1",
     "output_type": "error",
     "traceback": [
      "\u001b[0;31m---------------------------------------------------------------------------\u001b[0m",
      "\u001b[0;31m_RemoteTraceback\u001b[0m                          Traceback (most recent call last)",
      "\u001b[0;31m_RemoteTraceback\u001b[0m: \n\"\"\"\nTraceback (most recent call last):\n  File \"/usr/lib/python3.12/concurrent/futures/process.py\", line 263, in _process_worker\n    r = call_item.fn(*call_item.args, **call_item.kwargs)\n        ^^^^^^^^^^^^^^^^^^^^^^^^^^^^^^^^^^^^^^^^^^^^^^^^^\n  File \"/tmp/ipykernel_164599/693260103.py\", line 19, in _time_run\n    algorithm(*args)\n  File \"/tmp/ipykernel_164599/26330954.py\", line 33, in juego_monedas\n    return _juego_monedas(arr, 0, len(arr), memory), memory\n           ^^^^^^^^^^^^^^^^^^^^^^^^^^^^^^^^^^^^^^^^\n  File \"/tmp/ipykernel_164599/26330954.py\", line 19, in _juego_monedas\n    decision_mateo_1 = decision_mateo(arr, inicio + 1, fin)\n                       ^^^^^^^^^^^^^^^^^^^^^^^^^^^^^^^^^^^^\n  File \"/tmp/ipykernel_164599/26330954.py\", line 4, in decision_mateo\n    if arr[inicio] > arr[fin - 1]:\n       ~~~^^^^^^^^\nIndexError: index 1 is out of bounds for axis 0 with size 1\n\"\"\"",
      "\nThe above exception was the direct cause of the following exception:\n",
      "\u001b[0;31mIndexError\u001b[0m                                Traceback (most recent call last)",
      "Cell \u001b[0;32mIn[4], line 9\u001b[0m\n\u001b[1;32m      4\u001b[0m \u001b[38;5;66;03m# La variable x van a ser los valores del eje x de los gráficos en todo el notebook\u001b[39;00m\n\u001b[1;32m      5\u001b[0m \u001b[38;5;66;03m# Tamaño mínimo=100, tamaño máximo=1k, cantidad de puntos=40\u001b[39;00m\n\u001b[1;32m      6\u001b[0m x \u001b[38;5;241m=\u001b[39m np\u001b[38;5;241m.\u001b[39mlinspace(\u001b[38;5;241m1\u001b[39m, \u001b[38;5;241m1_000\u001b[39m, \u001b[38;5;241m50\u001b[39m)\u001b[38;5;241m.\u001b[39mastype(\u001b[38;5;28mint\u001b[39m)\n\u001b[0;32m----> 9\u001b[0m results \u001b[38;5;241m=\u001b[39m \u001b[43mtime_algorithm\u001b[49m\u001b[43m(\u001b[49m\u001b[43mjuego_monedas\u001b[49m\u001b[43m,\u001b[49m\u001b[43m \u001b[49m\u001b[43mx\u001b[49m\u001b[43m,\u001b[49m\u001b[43m \u001b[49m\u001b[38;5;28;43;01mlambda\u001b[39;49;00m\u001b[43m \u001b[49m\u001b[43ms\u001b[49m\u001b[43m:\u001b[49m\u001b[43m \u001b[49m\u001b[43m[\u001b[49m\u001b[43mget_random_array\u001b[49m\u001b[43m(\u001b[49m\u001b[43ms\u001b[49m\u001b[43m)\u001b[49m\u001b[43m]\u001b[49m\u001b[43m)\u001b[49m\n",
      "Cell \u001b[0;32mIn[2], line 35\u001b[0m, in \u001b[0;36mtime_algorithm\u001b[0;34m(algorithm, sizes, get_args)\u001b[0m\n\u001b[1;32m     32\u001b[0m         futures[p\u001b[38;5;241m.\u001b[39msubmit(_time_run, algorithm, \u001b[38;5;241m*\u001b[39mget_args(i))] \u001b[38;5;241m=\u001b[39m i\n\u001b[1;32m     34\u001b[0m \u001b[38;5;28;01mfor\u001b[39;00m f \u001b[38;5;129;01min\u001b[39;00m as_completed(futures):\n\u001b[0;32m---> 35\u001b[0m     result \u001b[38;5;241m=\u001b[39m \u001b[43mf\u001b[49m\u001b[38;5;241;43m.\u001b[39;49m\u001b[43mresult\u001b[49m\u001b[43m(\u001b[49m\u001b[43m)\u001b[49m\n\u001b[1;32m     36\u001b[0m     i \u001b[38;5;241m=\u001b[39m futures[f]\n\u001b[1;32m     37\u001b[0m     total_times[i] \u001b[38;5;241m+\u001b[39m\u001b[38;5;241m=\u001b[39m result\n",
      "File \u001b[0;32m/usr/lib/python3.12/concurrent/futures/_base.py:449\u001b[0m, in \u001b[0;36mFuture.result\u001b[0;34m(self, timeout)\u001b[0m\n\u001b[1;32m    447\u001b[0m     \u001b[38;5;28;01mraise\u001b[39;00m CancelledError()\n\u001b[1;32m    448\u001b[0m \u001b[38;5;28;01melif\u001b[39;00m \u001b[38;5;28mself\u001b[39m\u001b[38;5;241m.\u001b[39m_state \u001b[38;5;241m==\u001b[39m FINISHED:\n\u001b[0;32m--> 449\u001b[0m     \u001b[38;5;28;01mreturn\u001b[39;00m \u001b[38;5;28;43mself\u001b[39;49m\u001b[38;5;241;43m.\u001b[39;49m\u001b[43m__get_result\u001b[49m\u001b[43m(\u001b[49m\u001b[43m)\u001b[49m\n\u001b[1;32m    451\u001b[0m \u001b[38;5;28mself\u001b[39m\u001b[38;5;241m.\u001b[39m_condition\u001b[38;5;241m.\u001b[39mwait(timeout)\n\u001b[1;32m    453\u001b[0m \u001b[38;5;28;01mif\u001b[39;00m \u001b[38;5;28mself\u001b[39m\u001b[38;5;241m.\u001b[39m_state \u001b[38;5;129;01min\u001b[39;00m [CANCELLED, CANCELLED_AND_NOTIFIED]:\n",
      "File \u001b[0;32m/usr/lib/python3.12/concurrent/futures/_base.py:401\u001b[0m, in \u001b[0;36mFuture.__get_result\u001b[0;34m(self)\u001b[0m\n\u001b[1;32m    399\u001b[0m \u001b[38;5;28;01mif\u001b[39;00m \u001b[38;5;28mself\u001b[39m\u001b[38;5;241m.\u001b[39m_exception:\n\u001b[1;32m    400\u001b[0m     \u001b[38;5;28;01mtry\u001b[39;00m:\n\u001b[0;32m--> 401\u001b[0m         \u001b[38;5;28;01mraise\u001b[39;00m \u001b[38;5;28mself\u001b[39m\u001b[38;5;241m.\u001b[39m_exception\n\u001b[1;32m    402\u001b[0m     \u001b[38;5;28;01mfinally\u001b[39;00m:\n\u001b[1;32m    403\u001b[0m         \u001b[38;5;66;03m# Break a reference cycle with the exception in self._exception\u001b[39;00m\n\u001b[1;32m    404\u001b[0m         \u001b[38;5;28mself\u001b[39m \u001b[38;5;241m=\u001b[39m \u001b[38;5;28;01mNone\u001b[39;00m\n",
      "\u001b[0;31mIndexError\u001b[0m: index 1 is out of bounds for axis 0 with size 1"
     ]
    }
   ],
   "source": [
    "def get_random_array(size: int):\n",
    "    return np.random.randint(0, 100.000, size)\n",
    "\n",
    "# La variable x van a ser los valores del eje x de los gráficos en todo el notebook\n",
    "# Tamaño mínimo=100, tamaño máximo=1k, cantidad de puntos=40\n",
    "x = np.linspace(1, 1_000, 50).astype(int)\n",
    "\n",
    "\n",
    "results = time_algorithm(juego_monedas, x, lambda s: [get_random_array(s)])"
   ]
  },
  {
   "cell_type": "markdown",
   "metadata": {
    "id": "QF1bRBZDRZuZ"
   },
   "source": [
    "### Ejecutamos el algoritmo para casos aleatorios de hasta 10 mil elementos, se observa el siguiente crecimiento:"
   ]
  },
  {
   "cell_type": "code",
   "execution_count": null,
   "metadata": {
    "id": "PSn6YRC0wkq_",
    "scrolled": true
   },
   "outputs": [],
   "source": [
    "ax: plt.Axes\n",
    "fig, ax = plt.subplots()\n",
    "ax.plot(x, [results[i] for i in x], label=\"Medición\")\n",
    "ax.set_title('Tiempo de ejecución del algoritmo')\n",
    "ax.set_xlabel('Tamaño del array')\n",
    "ax.set_ylabel('Tiempo de ejecución (s)')"
   ]
  },
  {
   "cell_type": "code",
   "execution_count": null,
   "metadata": {
    "id": "aFqT6XNzRxZg"
   },
   "outputs": [],
   "source": [
    "### Luego calculamos el error cuadratico :"
   ]
  },
  {
   "cell_type": "code",
   "execution_count": null,
   "metadata": {
    "id": "n3pzdqBa49Hc"
   },
   "outputs": [],
   "source": [
    "f = lambda x, c1, c2, c3: c1 * x**2 + c2 * x + c3\n",
    "\n",
    "c, pcov = sp.optimize.curve_fit(f, x, [results[n] for n in x])\n",
    "\n",
    "print(f\"c_1 = {c[0]}, c_2 = {c[1]}, c_3 = {c[2]}\")\n",
    "r = np.sum((c[0] * x**2 + c[1] * x + c[2] - np.array([results[n] for n in x]))**2)\n",
    "print(f\"Error cuadrático medio: {r/len(results)}\")"
   ]
  },
  {
   "cell_type": "code",
   "execution_count": null,
   "metadata": {
    "id": "JX4x_9Uo5Bo6"
   },
   "outputs": [],
   "source": [
    "ax.set_title('Valor medido y curva de ajuste')\n",
    "ax.plot(x, [c[0] * n**2 + c[1] * n + c[2] for n in x], 'r--', label=\"Ajuste\")\n",
    "ax.legend()\n",
    "fig"
   ]
  },
  {
   "cell_type": "code",
   "execution_count": null,
   "metadata": {
    "id": "EYaurPaZua8x"
   },
   "outputs": [],
   "source": []
  }
 ],
 "metadata": {
  "accelerator": "TPU",
  "colab": {
   "gpuType": "V28",
   "provenance": []
  },
  "kernelspec": {
   "display_name": "Python 3 (ipykernel)",
   "language": "python",
   "name": "python3"
  },
  "language_info": {
   "codemirror_mode": {
    "name": "ipython",
    "version": 3
   },
   "file_extension": ".py",
   "mimetype": "text/x-python",
   "name": "python",
   "nbconvert_exporter": "python",
   "pygments_lexer": "ipython3",
   "version": "3.12.3"
  }
 },
 "nbformat": 4,
 "nbformat_minor": 4
}
